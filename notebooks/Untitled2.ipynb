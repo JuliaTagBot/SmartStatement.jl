{
 "cells": [
  {
   "cell_type": "code",
   "execution_count": 8,
   "metadata": {},
   "outputs": [
    {
     "data": {
      "text/plain": [
       "@makefun (macro with 1 method)"
      ]
     },
     "execution_count": 8,
     "metadata": {},
     "output_type": "execute_result"
    }
   ],
   "source": [
    "macro makefun(sig)\n",
    "@show sig\n",
    "str=\"\"\"\n",
    "function $sig\n",
    "    error(\"Function $sig belongs to an interface definition and cannot be called.\")\n",
    "end\n",
    "\"\"\"\n",
    "@show str\n",
    "Meta.parse(str)\n",
    "end"
   ]
  },
  {
   "cell_type": "code",
   "execution_count": 2,
   "metadata": {},
   "outputs": [
    {
     "data": {
      "text/plain": [
       "holaaa (generic function with 1 method)"
      ]
     },
     "execution_count": 2,
     "metadata": {},
     "output_type": "execute_result"
    }
   ],
   "source": [
    "@makefun holaaa()"
   ]
  },
  {
   "cell_type": "code",
   "execution_count": 3,
   "metadata": {},
   "outputs": [
    {
     "ename": "ErrorException",
     "evalue": "Function holaaa() belongs to an interface definition and cannot be called.",
     "output_type": "error",
     "traceback": [
      "Function holaaa() belongs to an interface definition and cannot be called.",
      "",
      "Stacktrace:",
      " [1] error(::String) at ./error.jl:33",
      " [2] holaaa() at ./none:2",
      " [3] top-level scope at In[3]:1"
     ]
    }
   ],
   "source": [
    "holaaa()"
   ]
  },
  {
   "cell_type": "code",
   "execution_count": 9,
   "metadata": {},
   "outputs": [
    {
     "name": "stdout",
     "output_type": "stream",
     "text": [
      "sig = :(foo(x::T)::(T where T))\n",
      "str = \"function foo(x::T)::(T where T)\\n    error(\\\"Function foo(x::T)::(T where T) belongs to an interface definition and cannot be called.\\\")\\nend\\n\"\n"
     ]
    },
    {
     "ename": "UndefVarError",
     "evalue": "UndefVarError: T not defined",
     "output_type": "error",
     "traceback": [
      "UndefVarError: T not defined",
      "",
      "Stacktrace:",
      " [1] top-level scope at In[9]:1"
     ]
    }
   ],
   "source": [
    "@makefun foo(x::T)::T where T"
   ]
  },
  {
   "cell_type": "code",
   "execution_count": 30,
   "metadata": {},
   "outputs": [
    {
     "ename": "ErrorException",
     "evalue": "Function foo(x::T) where T belongs to an interface definition and cannot be called.",
     "output_type": "error",
     "traceback": [
      "Function foo(x::T) where T belongs to an interface definition and cannot be called.",
      "",
      "Stacktrace:",
      " [1] error(::String) at ./error.jl:33",
      " [2] foo(::Int64) at ./none:2",
      " [3] top-level scope at In[30]:1"
     ]
    }
   ],
   "source": [
    "foo(1)"
   ]
  },
  {
   "cell_type": "code",
   "execution_count": 31,
   "metadata": {},
   "outputs": [],
   "source": [
    "abstract type A end\n",
    "abstract type B end"
   ]
  },
  {
   "cell_type": "code",
   "execution_count": 32,
   "metadata": {},
   "outputs": [
    {
     "data": {
      "text/plain": [
       "Union{A, B}"
      ]
     },
     "execution_count": 32,
     "metadata": {},
     "output_type": "execute_result"
    }
   ],
   "source": [
    "AB = Union{A,B}"
   ]
  },
  {
   "cell_type": "code",
   "execution_count": 33,
   "metadata": {},
   "outputs": [],
   "source": [
    "abstract type C end"
   ]
  },
  {
   "cell_type": "code",
   "execution_count": 34,
   "metadata": {},
   "outputs": [
    {
     "ename": "MethodError",
     "evalue": "MethodError: no method matching push!(::Type{Union{A, B}}, ::Type{C})\nClosest candidates are:\n  push!(::Any, ::Any, !Matched::Any) at abstractarray.jl:2064\n  push!(::Any, ::Any, !Matched::Any, !Matched::Any...) at abstractarray.jl:2065\n  push!(!Matched::Array{Any,1}, ::Any) at array.jl:862\n  ...",
     "output_type": "error",
     "traceback": [
      "MethodError: no method matching push!(::Type{Union{A, B}}, ::Type{C})\nClosest candidates are:\n  push!(::Any, ::Any, !Matched::Any) at abstractarray.jl:2064\n  push!(::Any, ::Any, !Matched::Any, !Matched::Any...) at abstractarray.jl:2065\n  push!(!Matched::Array{Any,1}, ::Any) at array.jl:862\n  ...",
      "",
      "Stacktrace:",
      " [1] top-level scope at In[34]:1"
     ]
    }
   ],
   "source": [
    "push!(AB,C)"
   ]
  },
  {
   "cell_type": "code",
   "execution_count": null,
   "metadata": {},
   "outputs": [],
   "source": []
  }
 ],
 "metadata": {
  "kernelspec": {
   "display_name": "Julia 1.0.3",
   "language": "julia",
   "name": "julia-1.0"
  },
  "language_info": {
   "file_extension": ".jl",
   "mimetype": "application/julia",
   "name": "julia",
   "version": "1.0.3"
  }
 },
 "nbformat": 4,
 "nbformat_minor": 2
}
