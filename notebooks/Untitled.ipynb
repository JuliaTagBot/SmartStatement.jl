{
 "cells": [
  {
   "cell_type": "code",
   "execution_count": null,
   "metadata": {},
   "outputs": [],
   "source": [
    "abstract type Foo end"
   ]
  },
  {
   "cell_type": "code",
   "execution_count": null,
   "metadata": {},
   "outputs": [],
   "source": [
    "struct FooA <: Foo\n",
    "    x::Int\n",
    "end"
   ]
  },
  {
   "cell_type": "code",
   "execution_count": null,
   "metadata": {},
   "outputs": [],
   "source": [
    "struct FooB <: Foo\n",
    "    x\n",
    "end"
   ]
  },
  {
   "cell_type": "code",
   "execution_count": null,
   "metadata": {},
   "outputs": [],
   "source": [
    "function getx(foo::FooA)\n",
    "    foo.x\n",
    "end\n",
    "function getx(foo::FooB)::Int\n",
    "    foo.x\n",
    "end"
   ]
  },
  {
   "cell_type": "code",
   "execution_count": null,
   "metadata": {},
   "outputs": [],
   "source": [
    "function run(foo)\n",
    "    k = getx(foo)\n",
    "    for i = 1:1000000\n",
    "        k = k + getx(foo)\n",
    "    end\n",
    "end"
   ]
  },
  {
   "cell_type": "code",
   "execution_count": null,
   "metadata": {},
   "outputs": [],
   "source": [
    "fooA = FooA(1)\n",
    "fooB = FooB(1)"
   ]
  },
  {
   "cell_type": "code",
   "execution_count": null,
   "metadata": {},
   "outputs": [],
   "source": [
    "@time run(fooA)"
   ]
  },
  {
   "cell_type": "code",
   "execution_count": null,
   "metadata": {},
   "outputs": [],
   "source": [
    "@time run(fooB)"
   ]
  },
  {
   "cell_type": "code",
   "execution_count": 1,
   "metadata": {},
   "outputs": [
    {
     "data": {
      "text/plain": [
       "hola (generic function with 2 methods)"
      ]
     },
     "execution_count": 1,
     "metadata": {},
     "output_type": "execute_result"
    }
   ],
   "source": [
    "function hola(x)::Int\n",
    "    x\n",
    "end\n",
    "function hola(x::Int)::Int\n",
    "    x\n",
    "end"
   ]
  },
  {
   "cell_type": "code",
   "execution_count": 2,
   "metadata": {},
   "outputs": [
    {
     "name": "stdout",
     "output_type": "stream",
     "text": [
      "\n",
      ";  @ In[1]:5 within `hola'\n",
      "define i64 @julia_hola_12602(i64) {\n",
      "top:\n",
      "  ret i64 %0\n",
      "}\n"
     ]
    }
   ],
   "source": [
    "@code_llvm hola(1)"
   ]
  },
  {
   "cell_type": "code",
   "execution_count": 3,
   "metadata": {},
   "outputs": [
    {
     "name": "stdout",
     "output_type": "stream",
     "text": [
      "\n",
      ";  @ In[1]:2 within `hola'\n",
      "define i64 @julia_hola_12619(double) {\n",
      "top:\n",
      "  %1 = alloca %jl_value_t addrspace(10)*, i32 3\n",
      "  %gcframe = alloca %jl_value_t addrspace(10)*, i32 3\n",
      "  %2 = bitcast %jl_value_t addrspace(10)** %gcframe to i8*\n",
      "  call void @llvm.memset.p0i8.i32(i8* %2, i8 0, i32 24, i32 0, i1 false)\n",
      "  %thread_ptr = call i8* asm \"movq %fs:0, $0\", \"=r\"()\n",
      "  %ptls_i8 = getelementptr i8, i8* %thread_ptr, i64 -15552\n",
      "  %ptls = bitcast i8* %ptls_i8 to %jl_value_t***\n",
      "; ┌ @ number.jl:7 within `convert'\n",
      "; │┌ @ float.jl:700 within `Type'\n",
      "; ││┌ @ float.jl:454 within `<='\n",
      "     %3 = getelementptr %jl_value_t addrspace(10)*, %jl_value_t addrspace(10)** %gcframe, i32 0\n",
      "     %4 = bitcast %jl_value_t addrspace(10)** %3 to i64*\n",
      "     store i64 2, i64* %4\n",
      "     %5 = getelementptr %jl_value_t**, %jl_value_t*** %ptls, i32 0\n",
      "     %6 = getelementptr %jl_value_t addrspace(10)*, %jl_value_t addrspace(10)** %gcframe, i32 1\n",
      "     %7 = bitcast %jl_value_t addrspace(10)** %6 to %jl_value_t***\n",
      "     %8 = load %jl_value_t**, %jl_value_t*** %5\n",
      "     store %jl_value_t** %8, %jl_value_t*** %7\n",
      "     %9 = bitcast %jl_value_t*** %5 to %jl_value_t addrspace(10)***\n",
      "     store %jl_value_t addrspace(10)** %gcframe, %jl_value_t addrspace(10)*** %9\n",
      "     %10 = fcmp oge double %0, 0xC3E0000000000000\n",
      "; ││└\n",
      "; ││┌ @ float.jl:452 within `<'\n",
      "     %11 = fcmp olt double %0, 0x43E0000000000000\n",
      "; ││└\n",
      "; ││┌ @ float.jl:364 within `round'\n",
      "     %12 = call double @llvm.trunc.f64(double %0)\n",
      "; ││└\n",
      "; ││┌ @ float.jl:448 within `=='\n",
      "     %13 = fcmp oeq double %12, %0\n",
      "; ││└\n",
      "    %not. = and i1 %11, %10\n",
      "    %narrow = and i1 %13, %not.\n",
      "    br i1 %narrow, label %L14, label %L16\n",
      "\n",
      "L14:                                              ; preds = %top\n",
      "; ││ @ float.jl:701 within `Type'\n",
      "; ││┌ @ float.jl:304 within `unsafe_trunc'\n",
      "     %14 = fptosi double %0 to i64\n",
      "; └└└\n",
      "  %15 = getelementptr %jl_value_t addrspace(10)*, %jl_value_t addrspace(10)** %gcframe, i32 1\n",
      "  %16 = load %jl_value_t addrspace(10)*, %jl_value_t addrspace(10)** %15\n",
      "  %17 = getelementptr %jl_value_t**, %jl_value_t*** %ptls, i32 0\n",
      "  %18 = bitcast %jl_value_t*** %17 to %jl_value_t addrspace(10)**\n",
      "  store %jl_value_t addrspace(10)* %16, %jl_value_t addrspace(10)** %18\n",
      "  ret i64 %14\n",
      "\n",
      "L16:                                              ; preds = %top\n",
      "; ┌ @ number.jl:7 within `convert'\n",
      "; │┌ @ float.jl:703 within `Type'\n",
      "    %19 = bitcast %jl_value_t*** %ptls to i8*\n",
      "    %20 = call noalias nonnull %jl_value_t addrspace(10)* @jl_gc_pool_alloc(i8* %19, i32 1664, i32 16) #2\n",
      "    %21 = bitcast %jl_value_t addrspace(10)* %20 to %jl_value_t addrspace(10)* addrspace(10)*\n",
      "    %22 = getelementptr %jl_value_t addrspace(10)*, %jl_value_t addrspace(10)* addrspace(10)* %21, i64 -1\n",
      "    store %jl_value_t addrspace(10)* addrspacecast (%jl_value_t* inttoptr (i64 140510577299856 to %jl_value_t*) to %jl_value_t addrspace(10)*), %jl_value_t addrspace(10)* addrspace(10)* %22\n",
      "    %23 = bitcast %jl_value_t addrspace(10)* %20 to double addrspace(10)*\n",
      "    store double %0, double addrspace(10)* %23, align 8\n",
      "    %24 = getelementptr %jl_value_t addrspace(10)*, %jl_value_t addrspace(10)** %gcframe, i32 2\n",
      "    store %jl_value_t addrspace(10)* %20, %jl_value_t addrspace(10)** %24\n",
      "    %25 = getelementptr %jl_value_t addrspace(10)*, %jl_value_t addrspace(10)** %1, i32 0\n",
      "    store %jl_value_t addrspace(10)* addrspacecast (%jl_value_t* inttoptr (i64 140510478592888 to %jl_value_t*) to %jl_value_t addrspace(10)*), %jl_value_t addrspace(10)** %25\n",
      "    %26 = getelementptr %jl_value_t addrspace(10)*, %jl_value_t addrspace(10)** %1, i32 1\n",
      "    store %jl_value_t addrspace(10)* addrspacecast (%jl_value_t* inttoptr (i64 140510481958896 to %jl_value_t*) to %jl_value_t addrspace(10)*), %jl_value_t addrspace(10)** %26\n",
      "    %27 = getelementptr %jl_value_t addrspace(10)*, %jl_value_t addrspace(10)** %1, i32 2\n",
      "    store %jl_value_t addrspace(10)* %20, %jl_value_t addrspace(10)** %27\n",
      "    %28 = call nonnull %jl_value_t addrspace(10)* @jsys1_Type_1033(%jl_value_t addrspace(10)* addrspacecast (%jl_value_t* inttoptr (i64 140510580855632 to %jl_value_t*) to %jl_value_t addrspace(10)*), %jl_value_t addrspace(10)** %1, i32 3)\n",
      "    %29 = addrspacecast %jl_value_t addrspace(10)* %28 to %jl_value_t addrspace(12)*\n",
      "    %30 = getelementptr %jl_value_t addrspace(10)*, %jl_value_t addrspace(10)** %gcframe, i32 2\n",
      "    store %jl_value_t addrspace(10)* %28, %jl_value_t addrspace(10)** %30\n",
      "    call void @jl_throw(%jl_value_t addrspace(12)* %29)\n",
      "    unreachable\n",
      "; └└\n",
      "}\n"
     ]
    }
   ],
   "source": [
    "@code_llvm hola(1.0)"
   ]
  },
  {
   "cell_type": "code",
   "execution_count": null,
   "metadata": {},
   "outputs": [],
   "source": []
  }
 ],
 "metadata": {
  "kernelspec": {
   "display_name": "Julia 1.1.0",
   "language": "julia",
   "name": "julia-1.1"
  },
  "language_info": {
   "file_extension": ".jl",
   "mimetype": "application/julia",
   "name": "julia",
   "version": "1.1.0"
  }
 },
 "nbformat": 4,
 "nbformat_minor": 2
}
